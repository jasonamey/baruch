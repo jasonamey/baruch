{
 "cells": [
  {
   "cell_type": "markdown",
   "id": "afc424c2-aedc-4cf0-839d-77d12595fcb4",
   "metadata": {},
   "source": [
    "# Python Fundamentals, Session 1\n",
    "\n",
    "Get comfortable writing and running Python code!\n",
    "\n",
    "---\n",
    "\n",
    "## 1. Basic Data Types\n",
    "\n",
    "Python has a few basic types:\n",
    "\n",
    "- **Integers** → whole numbers (`int`)\n",
    "- **Floats** → decimal numbers (`float`)\n",
    "- **Strings** → text (`str`)\n",
    "- **Booleans** → logical values (`bool`): `True` or `False` (capital 'T' and capital 'F'!)\n",
    "\n",
    "Think of how almost anything from the real world can be broken down and fundamentally represented by these data types (books, digital music, photographs, streaming video...).  Once information is represented digitally, we gain the power to create, edit, and share that information in ways that were never before possible. This the foundation of programming!\n",
    "\n",
    "---\n",
    "### Functions in Python  \n",
    "\n",
    "- **Functions** are reusable blocks of code that perform a task. We will talk a lot about functions! \n",
    "- You *call* them by writing their name followed by parentheses `()`.  \n",
    "\n",
    "- **Built-in functions** like `print()` and `type()` come with Python already loaded:  \n",
    "  - `print()` → outputs values to the screen. When using `print()` think: **\"this is for the benefit of me, for me to view and evaluate.\"** `print()` is the most basic form of debugging. \n",
    "  - `type()` → shows the data type of a value or variable... for the data types discussed above!\n",
    "  - you can use the data types above as functions to convert one data type into another `int(4.0)` converts float `4.0` into integer `4`\n",
    "  "
   ]
  },
  {
   "cell_type": "code",
   "execution_count": 53,
   "id": "088a8d5b-e570-43ab-8a74-b8ad2f71c8c4",
   "metadata": {},
   "outputs": [
    {
     "name": "stdout",
     "output_type": "stream",
     "text": [
      "10 <class 'int'>\n",
      "3.14 <class 'float'>\n",
      "Hello, Python! <class 'str'>\n",
      "Hello, Python! <class 'str'>\n",
      "True <class 'bool'>\n"
     ]
    }
   ],
   "source": [
    "# Integers\n",
    "a = 10\n",
    "print(a, type(a))\n",
    "\n",
    "# Float\n",
    "b = 3.14\n",
    "print(b, type(b))\n",
    "\n",
    "# String\n",
    "c = \"Hello, Python!\"\n",
    "print(c, type(c))\n",
    "# Strings can be represented by both single and double quotations - this is not true in all programming languages\n",
    "c = 'Hello, Python!'\n",
    "print(c, type(c))\n",
    "\n",
    "# Boolean\n",
    "d = True\n",
    "print(d, type(d))\n"
   ]
  },
  {
   "cell_type": "markdown",
   "id": "619ba5f3-eb28-404a-82f6-7d1d1fe7925e",
   "metadata": {},
   "source": [
    "ADD NOTE ABOUT COMMENTS #"
   ]
  },
  {
   "cell_type": "markdown",
   "id": "f63e95c6-5bad-4808-9406-68c20508155f",
   "metadata": {},
   "source": [
    "## 2. Variables\n",
    "\n",
    "\n",
    "Variables are names that store values. \n",
    "\n",
    "But why variables? Why do programs have all these variables all over? \n",
    "\n",
    "Variables let us **store values with a name** so we can reuse them later.  \n",
    "Instead of retyping the same data over and over, we give it a label (a variable) and work with that.  \n",
    "\n",
    "This is important because:  \n",
    "- It saves time   \n",
    "- It reduces errors   \n",
    "- It makes your code easier to read  \n"
   ]
  },
  {
   "cell_type": "code",
   "execution_count": 54,
   "id": "8115dc79-38aa-4c1f-9c38-7500a038d8ee",
   "metadata": {},
   "outputs": [
    {
     "name": "stdout",
     "output_type": "stream",
     "text": [
      "The price is 19.99 plus tax.\n",
      "If you buy two, that's 39.98 plus tax.\n",
      "If you buy three, that's 59.97 plus tax.\n",
      "The price is 19.99 plus tax.\n",
      "If you buy two, that's 39.98 plus tax.\n",
      "If you buy three, that's 59.97 plus tax.\n"
     ]
    }
   ],
   "source": [
    "# Would you want to keep typing 19.99? Can't we represent 19.99 another way? \n",
    "print(\"The price is\", 19.99, \"plus tax.\")\n",
    "print(\"If you buy two, that's\", 19.99 + 19.99, \"plus tax.\")\n",
    "print(\"If you buy three, that's\", 19.99 + 19.99 + 19.99, \"plus tax.\")\n",
    "\n",
    "# Let's use a variable! \n",
    "price = 19.99\n",
    "print(\"The price is\", price, \"plus tax.\")\n",
    "print(\"If you buy two, that's\", price * 2, \"plus tax.\")\n",
    "print(\"If you buy three, that's\", price * 3, \"plus tax.\")\n",
    "\n",
    "# Easier! Now if the price changes, you update it once."
   ]
  },
  {
   "cell_type": "markdown",
   "id": "12c3b842-2cf1-4caf-a617-b555f7c42aae",
   "metadata": {},
   "source": [
    "Variables follow some rules:\n",
    "- Start with a letter or underscore _ \n",
    "- Can’t start with a number\n",
    "- Case-sensitive"
   ]
  },
  {
   "cell_type": "code",
   "execution_count": 55,
   "id": "d461f2f7-608a-4f68-bb15-7b2f79c936ba",
   "metadata": {},
   "outputs": [
    {
     "name": "stdout",
     "output_type": "stream",
     "text": [
      "5 Data 2.5\n",
      "x is now: 100\n",
      "Alice Bob\n"
     ]
    }
   ],
   "source": [
    "# Assignment\n",
    "# The = sign means \"assignment\", not \"equals\" from math class.\n",
    "x = 5\n",
    "# ^\"The variable x is not assinged to the value 5\"\n",
    "y = \"Data\"\n",
    "# ^\"The variable y is not assinged to the value 'Data'\"\n",
    "z = 2.5\n",
    "print(x, y, z)\n",
    "\n",
    "# Overwriting a variable\n",
    "# When you reassign a variable, it forgets the old value.\n",
    "x = 100\n",
    "print(\"x is now:\", x)\n",
    "\n",
    "# Naming matters (case-sensitive)\n",
    "# \"Name\" and \"name\" are two different variables.\n",
    "Name = \"Alice\"\n",
    "name = \"Bob\"\n",
    "print(Name, name)"
   ]
  },
  {
   "cell_type": "markdown",
   "id": "a8741c76-a3f5-4b3c-89b2-8a20814c3996",
   "metadata": {},
   "source": [
    "\n",
    "## **Reserved Words**:  \n",
    "Some names in Python are *reserved* because they are keywords.  \n",
    "We will see many of these words in future lessons, but you **cannot** use **any** of these as variable names.  \n",
    "\n",
    "Here’s the full list (Python 3.12):  \n",
    "\n",
    "`False`, `None`, `True`,  \n",
    "`and`, `as`, `assert`, `async`, `await`,  \n",
    "`break`, `class`, `continue`,  \n",
    "`def`, `del`,  \n",
    "`elif`, `else`, `except`,  \n",
    "`finally`, `for`, `from`,  \n",
    "`global`,  \n",
    "`if`, `import`, `in`, `is`,  \n",
    "`lambda`,  \n",
    "`nonlocal`, `not`,  \n",
    "`or`,  \n",
    "`pass`,  \n",
    "`raise`, `return`,  \n",
    "`try`,  \n",
    "`while`, `with`,  \n",
    "`yield`  \n"
   ]
  },
  {
   "cell_type": "markdown",
   "id": "4f0c1f62-79a7-4f46-99d1-d04d81701e5b",
   "metadata": {},
   "source": [
    "## 3. Arithmetic Operators\n",
    "\n",
    "- Arithmetic operators let us perform calculations!  \n",
    "- In programming, you will do a lot of calculations! We can represent **many things** with numbers and we will want to do calculations on those numbers. \n",
    "- That's why arithmetic operators are a foundation of programming for tasks like **data analysis, simulations, and algorithms**.  \n",
    "- Anytime you want to add, subtract, multiply, or divide values, you’ll use these.  \n",
    "\n"
   ]
  },
  {
   "cell_type": "code",
   "execution_count": 56,
   "id": "2faa580c-d508-464b-beb0-a336b3c14ffa",
   "metadata": {},
   "outputs": [
    {
     "name": "stdout",
     "output_type": "stream",
     "text": [
      "Addition: 17\n",
      "Subtraction: 7\n",
      "Multiplication: 60\n",
      "Division: 2.4\n",
      "Floor Division: 2\n",
      "Modulus (remainder): 2\n",
      "Exponent: 144\n"
     ]
    }
   ],
   "source": [
    "a = 12\n",
    "b = 5\n",
    "\n",
    "print(\"Addition:\", a + b)          # adds the numbers\n",
    "print(\"Subtraction:\", a - b)       # subtracts b from a\n",
    "print(\"Multiplication:\", a * b)    # multiplies a and b\n",
    "print(\"Division:\", a / b)          # true division, always returns a float (decimal)\n",
    "print(\"Floor Division:\", a // b)   # integer division, drops the remainder, keeps only the quotient (e.g. not 4.3, just 4) \n",
    "print(\"Modulus (remainder):\", a % b)  # gives just the remainder after division - this might be new for you\n",
    "print(\"Exponent:\", a ** 2)         # raises a to the power of 2 (a squared here)\n"
   ]
  },
  {
   "cell_type": "markdown",
   "id": "0e17ab1f-6ce2-486f-8a07-838e79a0e7f2",
   "metadata": {},
   "source": [
    "## 4. Combiing Arithmetic Operators and Variable Assignment\n",
    "\n",
    "Variables can be **updated using their previous values** with arithmetic operators.  \n",
    "\n",
    "- You can add, subtract, multiply, etc., to a variable and store the result back in the same variable.  \n",
    "- Python provides **shortcuts** (like `+=`, `-=`, `*=`) to make updates more concise.  \n",
    "- These operators also work with other data types such as **strings** (concatenation, repetition) and **lists** (joining).  "
   ]
  },
  {
   "cell_type": "code",
   "execution_count": 57,
   "id": "f24918f3-1319-4afc-a6ca-442a271242f5",
   "metadata": {},
   "outputs": [
    {
     "name": "stdout",
     "output_type": "stream",
     "text": [
      "15\n",
      "15\n",
      "Jason Amey\n",
      "Amey Jason\n",
      "Hi Hi Hi \n",
      "[1, 2, 3, 4]\n"
     ]
    }
   ],
   "source": [
    "# Updating variables\n",
    "# You can update a variable using its old value.\n",
    "# The 'old' value is reset! Again: not an equality like an equation from math class!\n",
    "x = 5\n",
    "x = x + 10\n",
    "print(x)   # 15\n",
    "\n",
    "# Shortcut for updating\n",
    "x = 5\n",
    "x += 10   # same as x = x + 10\n",
    "print(x)   # 15\n",
    "\n",
    "# Operators with different data types - you can use math operators with not just numbers! \n",
    "# Strings concatenation\n",
    "n = \"Jason\"\n",
    "n = n + \" Amey\"\n",
    "print(n)   # \"Jason Amey\"\n",
    "\n",
    "n = \"Jason\"\n",
    "n =  \"Amey \" + n\n",
    "print(n)   # \"Amey Jason\"\n",
    "\n",
    "# Strings and repetition\n",
    "word = \"Hi \"\n",
    "print(word * 3)   # \"Hi Hi Hi \"\n",
    "\n",
    "# Lists and joining (we will see more lists in the future...)\n",
    "lst = [1, 2]\n",
    "lst = lst + [3, 4]\n",
    "print(lst)   # [1, 2, 3, 4]\n",
    "\n",
    "# Caution:\n",
    "# You can’t mix incompatible types:\n",
    "# 2 + \"hello\" will cause an error\n",
    "# no 'hard' rules for this "
   ]
  },
  {
   "cell_type": "markdown",
   "id": "bbc5bef9-9129-4c44-b6ea-915d4f277b98",
   "metadata": {},
   "source": [
    "## 5. Comparison Operators\n",
    "\n",
    "- Comparison operators let us **ask questions about values**.  \n",
    "- They return `True` or `False`, which is the basis of **decision making** in code (e.g., `if` statements, loops - you'll see these in future lessons).  \n",
    "- Without them, your program couldn’t choose between alternatives.  \n"
   ]
  },
  {
   "cell_type": "code",
   "execution_count": 58,
   "id": "615c3eec-7979-47ac-b754-bd3bfddd11c5",
   "metadata": {
    "scrolled": true
   },
   "outputs": [
    {
     "name": "stdout",
     "output_type": "stream",
     "text": [
      "True\n",
      "True\n",
      "True\n",
      "False\n",
      "True\n",
      "True\n"
     ]
    }
   ],
   "source": [
    "print(10 == 10)   # equal\n",
    "print(10 != 5)    # not equal\n",
    "print(10 > 5)     # greater than\n",
    "print(10 < 5)     # less than\n",
    "print(10 >= 10)   # greater or equal\n",
    "print(10 <= 20)   # less or equal\n",
    "\n",
    "# Watch the order of characters! \n",
    "# It's >= (greater-than before equals), not =>. \n",
    "# Same with <=, not =<. Python cares about the order!"
   ]
  },
  {
   "cell_type": "markdown",
   "id": "9a9fe62b-c9dc-4db1-8381-b441889d468e",
   "metadata": {},
   "source": [
    "## 6. Boolean Operators\n",
    "\n",
    "- Boolean operators combine or modify `True`/`False` values.  \n",
    "- They’re essential for **logic and control flow**, for example:  \n",
    "    + checking multiple conditions (`if a > 0 and b > 0`)  \n",
    "    + making choices (`if x < 10 or y < 5`)  \n",
    "    + inverting a condition (`if not done`).  \n",
    "\n",
    "...These build the rules that let programs \"think.\" \n"
   ]
  },
  {
   "cell_type": "code",
   "execution_count": 59,
   "id": "d023df03-26b9-4954-884e-96ce38513985",
   "metadata": {},
   "outputs": [
    {
     "name": "stdout",
     "output_type": "stream",
     "text": [
      "True\n",
      "False\n",
      "False\n",
      "True\n",
      "False\n",
      "False\n",
      "True\n",
      "False\n",
      "True\n",
      "False\n",
      "True\n",
      "True\n",
      "False\n",
      "True\n",
      "False\n"
     ]
    }
   ],
   "source": [
    "print(True and True)  # true!\n",
    "print(False and False)  # false!\n",
    "print(True and False)  # both must be true\n",
    "print(True or False)   # at least one is true\n",
    "print(not True)        # negation\n",
    "\n",
    "#Putting this together:\n",
    "print((8 > 10) and (False))                 \n",
    "print((5 == 5) and (10 > 2))                \n",
    "print((7 < 3) or (4 != 4))                  \n",
    "print((12 >= 12) and (6 < 10) or (3 == 2))  \n",
    "print(not(10 <= 20 and 5 > 1))              \n",
    "print(((2 != 3) and (8 < 15)) or (False and (7 > 1))) \n",
    "print((4 == 4) and ((9 > 2) or (6 < 0)))    \n",
    "\n",
    "# Hard!\n",
    "print(not((3 > 1) and (2 == 2)) or (5 < 4))   \n",
    "print(((10 != 10) or (8 >= 8)) and not(False)) \n",
    "print((7 > 5) and (not(3 == 3) or (2 < 1)))   "
   ]
  },
  {
   "cell_type": "markdown",
   "id": "a2451e3d-f403-4766-8d33-4704025869dc",
   "metadata": {},
   "source": [
    "### General Statement about Programming Booleans\n",
    "\n",
    "In real programs, you often won't be comparing expressions like `(8 > 10)`.  \n",
    "Instead, you’ll be comparing **values that come from your program’s data and state** for example:  \n"
   ]
  },
  {
   "cell_type": "code",
   "execution_count": 60,
   "id": "eb51a659-a4e0-47dc-a3eb-2808705a4b03",
   "metadata": {},
   "outputs": [
    {
     "name": "stdout",
     "output_type": "stream",
     "text": [
      "Transaction approved\n",
      "Access granted\n"
     ]
    }
   ],
   "source": [
    "#######################\n",
    "# Example variable values (so we don't get errors)\n",
    "balance = 100\n",
    "overdraft = False\n",
    "\n",
    "username = \"admin\"\n",
    "role = \"user\"\n",
    "\n",
    "is_logged_in = True\n",
    "has_permission = False\n",
    "#######################\n",
    "\n",
    "#Numbers\n",
    "if balance > 0 and overdraft == False:\n",
    "    print(\"Transaction approved\")\n",
    "\n",
    "#Strings\n",
    "if username == \"admin\" or role == \"superuser\":\n",
    "    print(\"Access granted\")\n",
    "\n",
    "#Booleans\n",
    "if is_logged_in and has_permission:\n",
    "    print(\"Welcome back!\")\n"
   ]
  },
  {
   "cell_type": "markdown",
   "id": "aad5f162-e84a-46ff-87e0-333907b3f82f",
   "metadata": {},
   "source": [
    "## Note about statements vs expressions? "
   ]
  },
  {
   "cell_type": "code",
   "execution_count": null,
   "id": "68cd2aad-906a-411c-a000-4c0e832a2741",
   "metadata": {},
   "outputs": [],
   "source": []
  },
  {
   "cell_type": "code",
   "execution_count": null,
   "id": "59798b99-8af6-4eb8-a9ff-acd8226b4a3c",
   "metadata": {},
   "outputs": [],
   "source": []
  }
 ],
 "metadata": {
  "kernelspec": {
   "display_name": "Python 3 (ipykernel)",
   "language": "python",
   "name": "python3"
  },
  "language_info": {
   "codemirror_mode": {
    "name": "ipython",
    "version": 3
   },
   "file_extension": ".py",
   "mimetype": "text/x-python",
   "name": "python",
   "nbconvert_exporter": "python",
   "pygments_lexer": "ipython3",
   "version": "3.13.1"
  }
 },
 "nbformat": 4,
 "nbformat_minor": 5
}
