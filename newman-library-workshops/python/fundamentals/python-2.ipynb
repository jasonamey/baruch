{
 "cells": [
  {
   "cell_type": "markdown",
   "id": "8ee06960-cc06-496e-b721-f44f6610a4ab",
   "metadata": {},
   "source": [
    "# Python Fundamentals, Session 2\n",
    "\n",
    "How can our code decide and repeat? \n",
    "\n",
    "---\n",
    "\n",
    "## 1. If / Else Statements  \n",
    "\n",
    "Programs often need to *make decisions*. We use **if / elif / else** statements to control what happens depending on conditions.  \n",
    "\n",
    "- `if` : check if a condition is true  \n",
    "- `elif` : check another condition (optional, can use multiple)  \n",
    "- `else` : if none of the above conditions are true, do this  \n",
    "\n",
    "Think of it like reaching a many-pronged **fork in the road**  \n",
    "At each fork, your condition decides which path the program follows. Different conditions = different paths!  \n",
    "\n",
    "\n",
    "- Does my program satisfy **Condition 1**? Take **Path 1**  \n",
    "- Otherwise, does it satisfy **Condition 2**? Take **Path 2**  \n",
    "- Otherwise, does it satisfy **Condition 3**? Take **Path 3**  \n",
    "- If none of the conditions are satisfied… Take the **default Path 4** \n",
    " "
   ]
  },
  {
   "cell_type": "code",
   "execution_count": 12,
   "id": "f380312f-31da-4f36-9d0b-59d25f3bb614",
   "metadata": {},
   "outputs": [
    {
     "name": "stdout",
     "output_type": "stream",
     "text": [
      "It's warm outside!\n",
      "The number is negative\n",
      "Grade: B\n",
      "You are too young to enter.\n",
      "Bring a coat and umbrella.\n",
      "Access granted\n"
     ]
    }
   ],
   "source": [
    "# Example 1: The simplest fork in the road\n",
    "temperature = 25\n",
    "if temperature > 20:\n",
    "    print(\"It's warm outside!\")   # only one condition checked\n",
    "\n",
    "# Example 2: Add an else branch\n",
    "number = -5\n",
    "if number >= 0:\n",
    "    print(\"The number is non-negative\")\n",
    "else:\n",
    "    print(\"The number is negative\")\n",
    "\n",
    "# Example 3: Add elif to check multiple roads\n",
    "score = 85\n",
    "if score >= 90:\n",
    "    print(\"Grade: A\")\n",
    "elif score >= 80:\n",
    "    print(\"Grade: B\")\n",
    "elif score >= 70:\n",
    "    print(\"Grade: C\")\n",
    "else:\n",
    "    print(\"Grade: F\")\n",
    "\n",
    "# Example 4: Multiple conditions with logical operators\n",
    "age = 17\n",
    "has_permission = True\n",
    "if age >= 18 and has_permission:\n",
    "    print(\"You can enter the concert.\")\n",
    "elif age >= 18 and not has_permission:\n",
    "    print(\"You are old enough, but don’t have permission.\")\n",
    "else:\n",
    "    print(\"You are too young to enter.\")\n",
    "\n",
    "# Example 5: Nesting if/else inside another (advanced fork)\n",
    "weather = \"rainy\"\n",
    "temperature = 10\n",
    "if weather == \"rainy\":\n",
    "    if temperature < 15:\n",
    "        print(\"Bring a coat and umbrella.\")\n",
    "    else:\n",
    "        print(\"Just bring an umbrella.\")\n",
    "else:\n",
    "    print(\"No rain today!\")\n",
    "\n",
    "\n",
    "# Example 6: Real World example \n",
    "username = \"admin\"\n",
    "password = \"1234\"\n",
    "\n",
    "if username == \"admin\" and password == \"1234\":\n",
    "    print(\"Access granted\")\n",
    "else:\n",
    "    print(\"Access denied\")\n",
    "\n"
   ]
  },
  {
   "cell_type": "markdown",
   "id": "7cfae047-5959-4990-8083-3e3447ea11b6",
   "metadata": {},
   "source": [
    "### 1.2 Indentation in Python matters!\n",
    "Unlike some other languages (like C, Java, or JavaScript) where braces {} mark blocks,\n",
    "Python uses indentation (spaces **or** tabs) to define what belongs inside an if/else block.\n",
    "If your indentation is off, the code may throw an error or do something unintended."
   ]
  },
  {
   "cell_type": "code",
   "execution_count": 13,
   "id": "cd74b7eb-b65e-40d6-bdb9-5df3c6160aa2",
   "metadata": {},
   "outputs": [
    {
     "name": "stdout",
     "output_type": "stream",
     "text": [
      "x is positive\n",
      "This line is also part of the if block\n",
      "x is greater than 9\n"
     ]
    }
   ],
   "source": [
    "x = 10\n",
    "\n",
    "if x > 0:\n",
    "    print(\"x is positive\")      # Correct indentation\n",
    "    print(\"This line is also part of the if block\")\n",
    "    if x > 9: \n",
    "        print(\"x is greater than 9\")\n",
    "    # else: \n",
    "    # print(\"x is not greater than 9\") \n",
    "else:\n",
    "    print(\"x is not positive\")  # Runs if x <= 0 \n",
    "\n",
    "# BAD EXAMPLE (don’t do this):\n",
    "# if x > 0:\n",
    "# print(\"x is positive\")   # ERROR: this line is not indented properly\n",
    "\n",
    "# Another BAD EXAMPLE (logical but misleading):\n",
    "# if x > 0:\n",
    "#     print(\"x is positive\")\n",
    "# print(\"This line looks like it's part of the if, but it’s not!\")"
   ]
  },
  {
   "cell_type": "markdown",
   "id": "669b7fc4-f8f0-4190-a21b-a86a6c0b85eb",
   "metadata": {},
   "source": [
    "#### 1.2.1 Python's indendation arguably makes for easier to read code\n",
    "\n",
    "What follows is an example of \"C-style\" (e.g. C, Java, javascript) code compared to the same code in Python"
   ]
  },
  {
   "cell_type": "code",
   "execution_count": 14,
   "id": "657a7ed0-8f7d-4f37-8de5-9715c10f7b1b",
   "metadata": {},
   "outputs": [
    {
     "name": "stdout",
     "output_type": "stream",
     "text": [
      "x is positive\n"
     ]
    }
   ],
   "source": [
    "# You *can* write code like this in C-style languages (everything crammed together), but it’s challenging to read:\n",
    "\n",
    "# if(x>0){printf(\"x is positive\\n\");}else if(x==0){printf(\"x is zero\\n\");}else{printf(\"x is negative\\n\");}\n",
    "\n",
    "# Notice: no indentation, no line breaks — works fine in C/Java, but unreadable!\n",
    "\n",
    "# Python forces readability\n",
    "x = 10\n",
    "\n",
    "# Exact same code as above\n",
    "if x > 0:\n",
    "    print(\"x is positive\")\n",
    "elif x == 0:\n",
    "    print(\"x is zero\")\n",
    "else:\n",
    "    print(\"x is negative\")"
   ]
  },
  {
   "cell_type": "markdown",
   "id": "fe7d400e-fc37-43d4-818c-f47b8738b132",
   "metadata": {},
   "source": [
    "## 2. Loops  \n",
    "\n",
    "Loops let us **repeat code** without writing it multiple times.  \n",
    "\n",
    "This is often the *first real taste of automation* that new programmers get: instead of telling the computer step by step what to do for each case, you give it a rule, and it repeats the work for you.  \n",
    "\n",
    "- A **for loop** repeats over a sequence (like numbers in a range, items in a list, etc.).  \n",
    "- A **while loop** repeats as long as a condition is true.  \n",
    "\n",
    "This is where programming really feels powerful: the computer is doing the \"grunt work\" — whether it’s 10 times or 10,000 times — all without you having to write out the instructions again and again and again... \n",
    "\n",
    "### 2.1 For Loops  \n",
    "\n",
    "A **for loop** repeats code for each item in a sequence.  \n",
    "Example:  \n",
    "\n",
    "```python\n",
    "for i in range(1, 6):  # range(1,6) means numbers 1 through 5\n",
    "    print(\"Number:\", i)\n",
    "```\n",
    "\n",
    "#### What is that `i` ???\n",
    "\n",
    "- `i` is just a **name for the loop variable**   \n",
    "- Each time through the loop, Python assigns the next value from the sequence to this variable.  \n",
    "- You could use any valid name instead of `i`. For example:  \n",
    "\n",
    "```python\n",
    "for number in range(1, 6):\n",
    "    print(\"Number:\", number)\n",
    "```\n",
    "\n",
    "- `i` is often short for iterator (or index), which is why you see it so often in examples. But it’s not special—just a convention.\n",
    "\n",
    "#### What is that `in` ??? \n",
    "\n",
    "Think of it as: **\"take each item in this sequence.\"**\n",
    "\n",
    "#### What is this?: `range(start, stop[, step])`\n",
    "\n",
    "- `range(1, 6)`  starts at 1, ends **before** 6 → gives `[1, 2, 3, 4, 5]`.  \n",
    "  The start is \"inclusive\", but the stop is \"exclusive.\" 1 is included, 6 is not. \n",
    "\n",
    "- You can add a third argument for the step size:  \n",
    "  `range(1, 6, 2)` - `[1, 3, 5]` (counting by twos).\n",
    "\n",
    "- The notation `[, step]` means \"this is optional\" \n",
    "\n"
   ]
  },
  {
   "cell_type": "code",
   "execution_count": 15,
   "id": "eb5e8e13-e71a-421a-b8e4-ef4951a09b07",
   "metadata": {},
   "outputs": [
    {
     "name": "stdout",
     "output_type": "stream",
     "text": [
      "Number: 1\n",
      "Number: 2\n",
      "Number: 3\n",
      "Number: 4\n",
      "Number: 5\n",
      "Number: 1\n",
      "Number: 2\n",
      "Number: 3\n",
      "Number: 4\n",
      "Number: 5\n",
      "Odd Number: 1\n",
      "Odd Number: 3\n",
      "Odd Number: 5\n",
      "Letter: h\n",
      "Letter: e\n",
      "Letter: l\n",
      "Letter: l\n",
      "Letter: o\n",
      "Fruit: apple\n",
      "Fruit: banana\n",
      "Fruit: cherry\n",
      "Index: 0 → Fruit: apple\n",
      "Index: 1 → Fruit: banana\n",
      "Index: 2 → Fruit: cherry\n"
     ]
    }
   ],
   "source": [
    "# Example 1: Basic loop with i\n",
    "for i in range(1, 6):  # range(1,6) → 1, 2, 3, 4, 5\n",
    "    print(\"Number:\", i)\n",
    "\n",
    "# Example 2: Using a different loop variable name\n",
    "for number in range(1, 6):  # Same as above, but clearer variable name\n",
    "    print(\"Number:\", number)\n",
    "\n",
    "# Example 3: Loop with a step size\n",
    "for i in range(1, 6, 2):  # start=1, stop=6, step=2 → 1, 3, 5\n",
    "    print(\"Odd Number:\", i)\n",
    "\n",
    "# Example 4: Looping over characters in a string\n",
    "for letter in \"hello\":\n",
    "    print(\"Letter:\", letter)\n",
    "\n",
    "# Example 5: Looping through a list\n",
    "fruits = [\"apple\", \"banana\", \"cherry\"] # We will discuss this \"list\" in the future... \n",
    "for fruit in fruits:  # Loop variable takes each item in the list\n",
    "    print(\"Fruit:\", fruit)\n",
    "\n",
    "# Example 6: Using i as an index with range(len())\n",
    "fruits = [\"apple\", \"banana\", \"cherry\"]\n",
    "for i in range(len(fruits)):\n",
    "    print(\"Index:\", i, \"→ Fruit:\", fruits[i])\n"
   ]
  },
  {
   "cell_type": "markdown",
   "id": "08bd35ba-9a63-45c3-8f45-288459d6630d",
   "metadata": {},
   "source": [
    "### 2.1.2 Break and Continue  \n",
    "\n",
    "- `break` → stop the loop early  \n",
    "- `continue` → skip to the next iteration  "
   ]
  },
  {
   "cell_type": "code",
   "execution_count": 16,
   "id": "a742908f-f72a-427c-8070-c971c96b8cf3",
   "metadata": {},
   "outputs": [
    {
     "name": "stdout",
     "output_type": "stream",
     "text": [
      "Breaking example: 1\n",
      "Breaking example: 2\n",
      "Breaking example: 3\n",
      "Breaking example: 4\n",
      "Continue example: 1\n",
      "Continue example: 3\n",
      "Continue example: 5\n",
      "Continue example: 7\n",
      "Continue example: 9\n"
     ]
    }
   ],
   "source": [
    "for i in range(1, 10):\n",
    "    if i == 5:\n",
    "        break  # stop loop completely, will stop when i == 5\n",
    "    print(\"Breaking example:\", i)\n",
    "\n",
    "for i in range(1, 10):\n",
    "    if i % 2 == 0:\n",
    "        continue  # skip even numbers\n",
    "    print(\"Continue example:\", i)"
   ]
  },
  {
   "cell_type": "markdown",
   "id": "0e815fb4-5c3f-49bc-bea9-d8a760766a11",
   "metadata": {},
   "source": [
    "### 2.2 While Loops  \n",
    "\n",
    "A **while loop** repeats code *as long as a condition is true*.  \n",
    "Think of it as:  \n",
    "**“Keep doing this until the condition becomes false.”**  \n"
   ]
  },
  {
   "cell_type": "code",
   "execution_count": 17,
   "id": "c0d6c9bc-f63e-4bd4-ba22-bbfe6cf30fc5",
   "metadata": {},
   "outputs": [
    {
     "name": "stdout",
     "output_type": "stream",
     "text": [
      "Count is: 1\n",
      "Count is: 2\n",
      "Count is: 3\n",
      "Count is: 4\n",
      "Count is: 5\n"
     ]
    },
    {
     "name": "stdin",
     "output_type": "stream",
     "text": [
      "Type something (or 'quit' to exit):  quit\n"
     ]
    },
    {
     "name": "stdout",
     "output_type": "stream",
     "text": [
      "Goodbye!\n"
     ]
    }
   ],
   "source": [
    "# Example 1: Basic while loop with a counter\n",
    "count = 1\n",
    "while count <= 5:\n",
    "    print(\"Count is:\", count)\n",
    "    count += 1\n",
    "\n",
    "# Example 2: Infinite loop (dangerous — will run forever)\n",
    "# while True:\n",
    "#     print(\"This will never stop!\")\n",
    "\n",
    "# Example 3: Using while to ask for user input until they type 'quit'\n",
    "while True:\n",
    "    text = input(\"Type something (or 'quit' to exit): \")\n",
    "    if text == \"quit\":\n",
    "        print(\"Goodbye!\")\n",
    "        break\n",
    "    else:\n",
    "        print(\"You typed:\", text)"
   ]
  }
 ],
 "metadata": {
  "kernelspec": {
   "display_name": "Python 3 (ipykernel)",
   "language": "python",
   "name": "python3"
  },
  "language_info": {
   "codemirror_mode": {
    "name": "ipython",
    "version": 3
   },
   "file_extension": ".py",
   "mimetype": "text/x-python",
   "name": "python",
   "nbconvert_exporter": "python",
   "pygments_lexer": "ipython3",
   "version": "3.13.1"
  }
 },
 "nbformat": 4,
 "nbformat_minor": 5
}
